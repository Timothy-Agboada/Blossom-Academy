{
 "cells": [
  {
   "cell_type": "code",
   "execution_count": 28,
   "metadata": {},
   "outputs": [],
   "source": [
    "import pyspark as ps\n",
    "import pandas as pd\n",
    "import boto3"
   ]
  },
  {
   "cell_type": "code",
   "execution_count": 29,
   "metadata": {},
   "outputs": [],
   "source": [
    "from pyspark.sql.types import BooleanType\n",
    "from pyspark.sql.functions import udf\n",
    "from pyspark.sql import functions as F\n",
    "from pyspark.sql import SparkSession\n",
    "from pyspark.sql import Window\n",
    "from pyspark.ml.feature import NGram,Tokenizer\n",
    "from pyspark.sql.functions import col"
   ]
  },
  {
   "cell_type": "code",
   "execution_count": 30,
   "metadata": {},
   "outputs": [],
   "source": [
    "spark = SparkSession.builder.getOrCreate()"
   ]
  },
  {
   "cell_type": "code",
   "execution_count": 31,
   "metadata": {},
   "outputs": [],
   "source": [
    "s3 = boto3.client('s3')\n",
    "bucket = \"blossom-data-engs\"\n",
    "\n",
    "s3.download_file(bucket,\"companies.csv\",'companies.csv')\n",
    "s3.download_file(bucket,\"alldata.csv\",'alldata.csv')"
   ]
  },
  {
   "cell_type": "code",
   "execution_count": 32,
   "metadata": {},
   "outputs": [],
   "source": [
    "companies = spark.read.csv('companies.csv',header=True, inferSchema=True, multiLine = True)\n",
    "alldata = spark.read.csv('alldata.csv',header=True, inferSchema=True, multiLine = True)"
   ]
  },
  {
   "cell_type": "code",
   "execution_count": 33,
   "metadata": {},
   "outputs": [],
   "source": [
    "alldata = alldata.withColumnRenamed('description','descriptions')\n",
    "companies = companies.withColumnRenamed('company name','company_name')"
   ]
  },
  {
   "cell_type": "code",
   "execution_count": 34,
   "metadata": {},
   "outputs": [
    {
     "data": {
      "text/plain": [
       "['position', 'company', 'descriptions', 'reviews', 'location\\r']"
      ]
     },
     "execution_count": 34,
     "metadata": {},
     "output_type": "execute_result"
    }
   ],
   "source": [
    "alldata.columns"
   ]
  },
  {
   "cell_type": "code",
   "execution_count": 35,
   "metadata": {},
   "outputs": [
    {
     "data": {
      "text/plain": [
       "['ticker',\n",
       " 'company_name',\n",
       " 'short name',\n",
       " 'industry',\n",
       " 'description',\n",
       " 'website',\n",
       " 'logo',\n",
       " 'ceo',\n",
       " 'exchange',\n",
       " 'market cap',\n",
       " 'sector',\n",
       " 'tag 1',\n",
       " 'tag 2',\n",
       " 'tag 3\\r']"
      ]
     },
     "execution_count": 35,
     "metadata": {},
     "output_type": "execute_result"
    }
   ],
   "source": [
    "companies.columns"
   ]
  },
  {
   "cell_type": "code",
   "execution_count": 36,
   "metadata": {},
   "outputs": [],
   "source": [
    "alldata = alldata.alias('alldata')\n",
    "companies = companies.alias('companies')"
   ]
  },
  {
   "cell_type": "code",
   "execution_count": 37,
   "metadata": {},
   "outputs": [],
   "source": [
    "ds =  companies.join(alldata, companies.company_name == alldata.company, 'inner')"
   ]
  },
  {
   "cell_type": "code",
   "execution_count": 38,
   "metadata": {},
   "outputs": [
    {
     "name": "stdout",
     "output_type": "stream",
     "text": [
      "+--------------------+--------------------+\n",
      "|        company_name|             company|\n",
      "+--------------------+--------------------+\n",
      "|   Cubic Corporation|   Cubic Corporation|\n",
      "| The Hershey Company| The Hershey Company|\n",
      "| Abbott Laboratories| Abbott Laboratories|\n",
      "| Centene Corporation| Centene Corporation|\n",
      "|           eBay Inc.|           eBay Inc.|\n",
      "|        Trimble Inc.|        Trimble Inc.|\n",
      "|   Cabot Corporation|   Cabot Corporation|\n",
      "| Celgene Corporation| Celgene Corporation|\n",
      "|               AECOM|               AECOM|\n",
      "|  Kemper Corporation|  Kemper Corporation|\n",
      "|Discover Financia...|Discover Financia...|\n",
      "|               AECOM|               AECOM|\n",
      "|          TransUnion|          TransUnion|\n",
      "|       Wipro Limited|       Wipro Limited|\n",
      "| Synchrony Financial| Synchrony Financial|\n",
      "|          TransUnion|          TransUnion|\n",
      "|Discover Financia...|Discover Financia...|\n",
      "|          TransUnion|          TransUnion|\n",
      "|Vanda Pharmaceuti...|Vanda Pharmaceuti...|\n",
      "|Vanda Pharmaceuti...|Vanda Pharmaceuti...|\n",
      "+--------------------+--------------------+\n",
      "only showing top 20 rows\n",
      "\n"
     ]
    }
   ],
   "source": [
    "ds.select('company_name','company').show()"
   ]
  },
  {
   "cell_type": "code",
   "execution_count": 39,
   "metadata": {},
   "outputs": [
    {
     "name": "stdout",
     "output_type": "stream",
     "text": [
      "Press 1 for unigram and 2 for bigram   1\n"
     ]
    }
   ],
   "source": [
    "num = input('Press 1 for unigram and 2 for bigram   ')"
   ]
  },
  {
   "cell_type": "code",
   "execution_count": 40,
   "metadata": {},
   "outputs": [],
   "source": [
    "def ngram(num,ds,column):\n",
    "    tokens = Tokenizer(inputCol = column, outputCol = 'tokens')\n",
    "    dt = tokens.transform(ds) \n",
    "    \n",
    "    ngrams = NGram(n=num, inputCol = 'tokens', outputCol = 'ngrams')\n",
    "    df = ngrams.transform(dt)\n",
    "    \n",
    "    return df"
   ]
  },
  {
   "cell_type": "code",
   "execution_count": 42,
   "metadata": {},
   "outputs": [
    {
     "name": "stdout",
     "output_type": "stream",
     "text": [
      "+--------------------+\n",
      "|              ngrams|\n",
      "+--------------------+\n",
      "|[job, summary:, ,...|\n",
      "|[job, title:, foo...|\n",
      "|[at, abbott,, we'...|\n",
      "|[provide, vision,...|\n",
      "|[at, ebay,, you, ...|\n",
      "|[data, scientist,...|\n",
      "|[position, summar...|\n",
      "|[other, locations...|\n",
      "|[aecom, is, activ...|\n",
      "|[position, summar...|\n",
      "|[as, a, master, d...|\n",
      "|[aecom, is, seeki...|\n",
      "|[–, mohit, kapoor...|\n",
      "|[he/she, will, le...|\n",
      "|[job, description...|\n",
      "|[what, we’ll, bri...|\n",
      "|[as, a, lead, dat...|\n",
      "|[–, mohit, kapoor...|\n",
      "|[\"position, descr...|\n",
      "|[responsibilities...|\n",
      "+--------------------+\n",
      "only showing top 20 rows\n",
      "\n"
     ]
    }
   ],
   "source": [
    "ngram(1,ds,'descriptions').select('ngrams').show(20)"
   ]
  },
  {
   "cell_type": "code",
   "execution_count": 43,
   "metadata": {},
   "outputs": [],
   "source": [
    "def outputs(df):\n",
    "    industry = df.select(['ngrams', 'industry']).limit(3)\\\n",
    "        .select('industry', F.explode('ngrams').alias('ngrams')).groupby(['ngrams','industry']).count()\n",
    "    city = df.select(['ngrams', 'location']).limit(3)\\\n",
    "        .select('location', F.explode('ngrams').alias('ngrams')).groupby(['ngrams','location']).count()\n",
    "    city = city.withColumnRenamed('location','city')\n",
    "    return industry,city"
   ]
  }
 ],
 "metadata": {
  "kernelspec": {
   "display_name": "Python 3",
   "language": "python",
   "name": "python3"
  },
  "language_info": {
   "codemirror_mode": {
    "name": "ipython",
    "version": 3
   },
   "file_extension": ".py",
   "mimetype": "text/x-python",
   "name": "python",
   "nbconvert_exporter": "python",
   "pygments_lexer": "ipython3",
   "version": "3.7.4"
  }
 },
 "nbformat": 4,
 "nbformat_minor": 4
}
