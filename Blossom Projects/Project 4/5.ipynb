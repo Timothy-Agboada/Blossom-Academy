{
 "cells": [
  {
   "cell_type": "code",
   "execution_count": 1,
   "metadata": {},
   "outputs": [],
   "source": [
    "from pyspark.sql import SparkSession"
   ]
  },
  {
   "cell_type": "code",
   "execution_count": 2,
   "metadata": {},
   "outputs": [],
   "source": [
    "spark = ( SparkSession.builder.appName(\"Stack Overflow Data Wrangling\").config(\n",
    "\"spark.jars\",\"C:/home/timothy/Desktop/Blossom/5/postgresql-42.2.8.jar\")\n",
    "        .getOrCreate()\n",
    "        )"
   ]
  },
  {
   "cell_type": "code",
   "execution_count": 3,
   "metadata": {},
   "outputs": [],
   "source": [
    "questions = spark.read.csv('questions2.csv',header=True, inferSchema=True, multiLine = True)\n",
    "users = spark.read.csv('users2.csv',header=True, inferSchema=True, multiLine = True)\n",
    "answers = spark.read.csv('answers2.csv',header=True, inferSchema=True, multiLine = True)"
   ]
  },
  {
   "cell_type": "code",
   "execution_count": 4,
   "metadata": {},
   "outputs": [
    {
     "data": {
      "text/plain": [
       "['id',\n",
       " 'user_id',\n",
       " 'title',\n",
       " 'body',\n",
       " 'accepted_answer_id',\n",
       " 'score',\n",
       " 'view_count',\n",
       " 'comment_count',\n",
       " 'created_at']"
      ]
     },
     "execution_count": 4,
     "metadata": {},
     "output_type": "execute_result"
    }
   ],
   "source": [
    "questions.columns"
   ]
  },
  {
   "cell_type": "code",
   "execution_count": 5,
   "metadata": {},
   "outputs": [
    {
     "data": {
      "text/plain": [
       "['id',\n",
       " 'display_name',\n",
       " 'reputation',\n",
       " 'website_url',\n",
       " 'location',\n",
       " 'about_me',\n",
       " 'views',\n",
       " 'up_votes',\n",
       " 'down_votes',\n",
       " 'image_url',\n",
       " 'created_at',\n",
       " 'updated_at']"
      ]
     },
     "execution_count": 5,
     "metadata": {},
     "output_type": "execute_result"
    }
   ],
   "source": [
    "users.columns"
   ]
  },
  {
   "cell_type": "code",
   "execution_count": 6,
   "metadata": {},
   "outputs": [
    {
     "data": {
      "text/plain": [
       "['id',\n",
       " 'user_id',\n",
       " 'question_id',\n",
       " 'body',\n",
       " 'score',\n",
       " 'comment_count',\n",
       " 'created_at']"
      ]
     },
     "execution_count": 6,
     "metadata": {},
     "output_type": "execute_result"
    }
   ],
   "source": [
    "answers.columns"
   ]
  },
  {
   "cell_type": "code",
   "execution_count": 7,
   "metadata": {},
   "outputs": [],
   "source": [
    "questions = questions.withColumnRenamed('id','questions_id')\n",
    "users = users.withColumnRenamed('id','users_id')\n",
    "answers = answers.withColumnRenamed('id','answers_id')\n",
    "\n",
    "questions = questions.withColumnRenamed('user_id','questions_user_id')\n",
    "answers = answers.withColumnRenamed('user_id','answers_user_id')\n",
    "\n",
    "questions = questions.withColumnRenamed('body','questions_body')\n",
    "answers = answers.withColumnRenamed('body','answers_body')\n",
    "\n",
    "questions = questions.withColumnRenamed('score','questions_score')\n",
    "answers = answers.withColumnRenamed('score','answers_score')\n",
    "\n",
    "questions = questions.withColumnRenamed('comment_count','questions_comment_count')\n",
    "answers = answers.withColumnRenamed('comment_count','answers_comment_count')\n",
    "\n",
    "questions = questions.withColumnRenamed('created_at','questions_created_at')\n",
    "users = users.withColumnRenamed('created_at','users_created_at')\n",
    "answers = answers.withColumnRenamed('created_at','answers_created_at')"
   ]
  },
  {
   "cell_type": "code",
   "execution_count": 8,
   "metadata": {},
   "outputs": [
    {
     "data": {
      "text/plain": [
       "['answers_id',\n",
       " 'answers_user_id',\n",
       " 'question_id',\n",
       " 'answers_body',\n",
       " 'answers_score',\n",
       " 'answers_comment_count',\n",
       " 'answers_created_at']"
      ]
     },
     "execution_count": 8,
     "metadata": {},
     "output_type": "execute_result"
    }
   ],
   "source": [
    "answers.columns"
   ]
  },
  {
   "cell_type": "code",
   "execution_count": 9,
   "metadata": {},
   "outputs": [
    {
     "data": {
      "text/plain": [
       "['questions_id',\n",
       " 'questions_user_id',\n",
       " 'title',\n",
       " 'questions_body',\n",
       " 'accepted_answer_id',\n",
       " 'questions_score',\n",
       " 'view_count',\n",
       " 'questions_comment_count',\n",
       " 'questions_created_at']"
      ]
     },
     "execution_count": 9,
     "metadata": {},
     "output_type": "execute_result"
    }
   ],
   "source": [
    "questions.columns"
   ]
  },
  {
   "cell_type": "code",
   "execution_count": 10,
   "metadata": {},
   "outputs": [
    {
     "name": "stdout",
     "output_type": "stream",
     "text": [
      "+--------------------+\n",
      "|            location|\n",
      "+--------------------+\n",
      "|Bangalore, Karnat...|\n",
      "|              Canada|\n",
      "|Pennsylvania, Uni...|\n",
      "|                null|\n",
      "|New Delhi, Delhi,...|\n",
      "|                null|\n",
      "|          日本 Tōkyō|\n",
      "|                null|\n",
      "|                null|\n",
      "|Gharaunda, Haryan...|\n",
      "|                null|\n",
      "|Passo Fundo, RS, ...|\n",
      "|                null|\n",
      "|    New Delhi, India|\n",
      "|                null|\n",
      "|      Patras, Greece|\n",
      "|              Turkey|\n",
      "|Jalandhar, Punjab...|\n",
      "|Surat, Gujarat, I...|\n",
      "|Makassar, Kota Ma...|\n",
      "|Darjeeling, West ...|\n",
      "|      Bronx, NY, USA|\n",
      "|                null|\n",
      "|Pune, Maharashtra...|\n",
      "|Mumbai, Maharasht...|\n",
      "|Bangalore, Karnat...|\n",
      "|              Serbia|\n",
      "|                null|\n",
      "|                null|\n",
      "| Woodbridge, VA, USA|\n",
      "|                null|\n",
      "|             Ukraine|\n",
      "|Mumbai, Maharasht...|\n",
      "|                null|\n",
      "|                null|\n",
      "|       United States|\n",
      "|      Luso, Portugal|\n",
      "| Berlin, Deutschland|\n",
      "|Bangalore, Karnat...|\n",
      "|                null|\n",
      "|                   0|\n",
      "| Nootdorp, Nederland|\n",
      "|                null|\n",
      "|                null|\n",
      "|Mumbai, Maharasht...|\n",
      "| Helsingborg, Sweden|\n",
      "|                null|\n",
      "|Queenstown, New Z...|\n",
      "|                null|\n",
      "|                null|\n",
      "|Hyderabad, Telang...|\n",
      "|Indore, Madhya Pr...|\n",
      "|                null|\n",
      "|       Kyiv, Ukraine|\n",
      "|               India|\n",
      "|                null|\n",
      "|Driebergen, Drieb...|\n",
      "|                null|\n",
      "|                null|\n",
      "|                null|\n",
      "|Bangalore, Karnat...|\n",
      "|    Atlanta, GA, USA|\n",
      "|São José dos Camp...|\n",
      "|                null|\n",
      "|                null|\n",
      "|    Lisboa, Portugal|\n",
      "|Naya Raipur, Chha...|\n",
      "|Zsámbék, Magyaror...|\n",
      "|                null|\n",
      "|Bangalore, Karnat...|\n",
      "|Auriflama - SP, A...|\n",
      "|Santa Clara, CA, USA|\n",
      "|                null|\n",
      "|Amersfoort, Neder...|\n",
      "|                null|\n",
      "|                null|\n",
      "|                null|\n",
      "|                null|\n",
      "|  Bucharest, România|\n",
      "|                null|\n",
      "|Bandung, Bandung ...|\n",
      "|                null|\n",
      "|    Bordeaux, France|\n",
      "|                null|\n",
      "|    İstanbul, Turkey|\n",
      "|                null|\n",
      "|                null|\n",
      "|                   1|\n",
      "|London, United Ki...|\n",
      "|                null|\n",
      "|Chennai, Tamil Na...|\n",
      "|   Barcelona, Spain.|\n",
      "|     Minsk, Беларусь|\n",
      "|           Indonesia|\n",
      "|Amsterdam, Nether...|\n",
      "|                null|\n",
      "|                null|\n",
      "|                null|\n",
      "|                null|\n",
      "|                null|\n",
      "+--------------------+\n",
      "only showing top 100 rows\n",
      "\n"
     ]
    }
   ],
   "source": [
    "users.select(\"location\").show(100)"
   ]
  },
  {
   "cell_type": "code",
   "execution_count": 11,
   "metadata": {},
   "outputs": [],
   "source": [
    "from pyspark.sql import functions as F"
   ]
  },
  {
   "cell_type": "code",
   "execution_count": 12,
   "metadata": {},
   "outputs": [
    {
     "data": {
      "text/plain": [
       "272717"
      ]
     },
     "execution_count": 12,
     "metadata": {},
     "output_type": "execute_result"
    }
   ],
   "source": [
    "users.count()"
   ]
  },
  {
   "cell_type": "code",
   "execution_count": 13,
   "metadata": {},
   "outputs": [
    {
     "name": "stdout",
     "output_type": "stream",
     "text": [
      "+---------------------------+------+\n",
      "|location                   |count |\n",
      "+---------------------------+------+\n",
      "|null                       |142162|\n",
      "|India                      |2957  |\n",
      "|Bangalore, Karnataka, India|2305  |\n",
      "|Germany                    |2065  |\n",
      "|Pune, Maharashtra, India   |1445  |\n",
      "|Chennai, Tamil Nadu, India |1100  |\n",
      "|France                     |1080  |\n",
      "|Hyderabad, Telangana, India|1076  |\n",
      "|Mumbai, Maharashtra, India |998   |\n",
      "|Paris, France              |995   |\n",
      "+---------------------------+------+\n",
      "only showing top 10 rows\n",
      "\n"
     ]
    }
   ],
   "source": [
    "users.groupBy('location').count().distinct().sort('count',ascending = False).show(10, truncate = False)"
   ]
  },
  {
   "cell_type": "code",
   "execution_count": 14,
   "metadata": {},
   "outputs": [],
   "source": [
    "#users use the contains function and drop null values."
   ]
  },
  {
   "cell_type": "code",
   "execution_count": 15,
   "metadata": {},
   "outputs": [
    {
     "name": "stdout",
     "output_type": "stream",
     "text": [
      "+---------------------------+-----+\n",
      "|location                   |count|\n",
      "+---------------------------+-----+\n",
      "|India                      |2957 |\n",
      "|Bangalore, Karnataka, India|2305 |\n",
      "|Germany                    |2065 |\n",
      "|Pune, Maharashtra, India   |1445 |\n",
      "|Chennai, Tamil Nadu, India |1100 |\n",
      "|France                     |1080 |\n",
      "|Hyderabad, Telangana, India|1076 |\n",
      "|Mumbai, Maharashtra, India |998  |\n",
      "|Paris, France              |995  |\n",
      "|Ahmedabad, Gujarat, India  |989  |\n",
      "|Bengaluru, Karnataka, India|935  |\n",
      "|Israel                     |921  |\n",
      "|London, UK                 |892  |\n",
      "|London, United Kingdom     |887  |\n",
      "|United States              |829  |\n",
      "|United Kingdom             |779  |\n",
      "|Netherlands                |753  |\n",
      "|USA                        |658  |\n",
      "|Singapore                  |632  |\n",
      "|Canada                     |630  |\n",
      "|Delhi, India               |581  |\n",
      "|Dhaka, Bangladesh          |579  |\n",
      "|UK                         |577  |\n",
      "|Berlin, Germany            |572  |\n",
      "|Poland                     |566  |\n",
      "|Toronto, ON, Canada        |565  |\n",
      "|New Delhi, Delhi, India    |565  |\n",
      "|Philippines                |540  |\n",
      "|Pakistan                   |502  |\n",
      "|Italy                      |485  |\n",
      "|Iran                       |472  |\n",
      "|New York, NY, USA          |468  |\n",
      "|Brazil                     |466  |\n",
      "|Australia                  |454  |\n",
      "|Noida, Uttar Pradesh, India|446  |\n",
      "|Moscow, Russia             |423  |\n",
      "|Switzerland                |422  |\n",
      "|Lahore, Pakistan           |421  |\n",
      "|Russia                     |420  |\n",
      "|Belgium                    |413  |\n",
      "|Sri Lanka                  |395  |\n",
      "|Spain                      |391  |\n",
      "|Ukraine                    |362  |\n",
      "|Egypt                      |353  |\n",
      "|Indonesia                  |345  |\n",
      "|Sweden                     |342  |\n",
      "|Malaysia                   |338  |\n",
      "|Amsterdam, Netherlands     |338  |\n",
      "|Gurgaon, Haryana, India    |330  |\n",
      "|Bangalore, India           |316  |\n",
      "+---------------------------+-----+\n",
      "only showing top 50 rows\n",
      "\n"
     ]
    }
   ],
   "source": [
    "users = users.na.drop(subset=[\"location\"])\n",
    "users.groupBy('location').count().distinct().sort('count',ascending = False).show(50, truncate = False)"
   ]
  },
  {
   "cell_type": "code",
   "execution_count": 16,
   "metadata": {},
   "outputs": [
    {
     "data": {
      "text/plain": [
       "7"
      ]
     },
     "execution_count": 16,
     "metadata": {},
     "output_type": "execute_result"
    }
   ],
   "source": [
    "users.filter(users.location.contains('germany')).count()"
   ]
  },
  {
   "cell_type": "code",
   "execution_count": 17,
   "metadata": {},
   "outputs": [],
   "source": [
    "users.registerTempTable('new_users')\n",
    "new_users = spark.sql(\"select * from new_users where location like '%India%' \")"
   ]
  },
  {
   "cell_type": "code",
   "execution_count": 18,
   "metadata": {},
   "outputs": [
    {
     "name": "stdout",
     "output_type": "stream",
     "text": [
      "+--------------------+\n",
      "|            location|\n",
      "+--------------------+\n",
      "|Bangalore, Karnat...|\n",
      "|New Delhi, Delhi,...|\n",
      "|Gharaunda, Haryan...|\n",
      "|    New Delhi, India|\n",
      "|Jalandhar, Punjab...|\n",
      "|Surat, Gujarat, I...|\n",
      "|Darjeeling, West ...|\n",
      "|Pune, Maharashtra...|\n",
      "|Mumbai, Maharasht...|\n",
      "|Bangalore, Karnat...|\n",
      "|Mumbai, Maharasht...|\n",
      "|Bangalore, Karnat...|\n",
      "|Mumbai, Maharasht...|\n",
      "|Hyderabad, Telang...|\n",
      "|Indore, Madhya Pr...|\n",
      "|               India|\n",
      "|Bangalore, Karnat...|\n",
      "|Naya Raipur, Chha...|\n",
      "|Bangalore, Karnat...|\n",
      "|Chennai, Tamil Na...|\n",
      "+--------------------+\n",
      "only showing top 20 rows\n",
      "\n"
     ]
    }
   ],
   "source": [
    "new_users.select(\"location\").show()"
   ]
  },
  {
   "cell_type": "code",
   "execution_count": 19,
   "metadata": {},
   "outputs": [],
   "source": [
    "new_users = new_users.withColumn(\"location\", F.regexp_replace('location', r\"[,]\\s*\\w*\\s*[,]\", ','))"
   ]
  },
  {
   "cell_type": "code",
   "execution_count": 20,
   "metadata": {},
   "outputs": [
    {
     "data": {
      "text/plain": [
       "['users_id',\n",
       " 'display_name',\n",
       " 'reputation',\n",
       " 'website_url',\n",
       " 'location',\n",
       " 'about_me',\n",
       " 'views',\n",
       " 'up_votes',\n",
       " 'down_votes',\n",
       " 'image_url',\n",
       " 'users_created_at',\n",
       " 'updated_at']"
      ]
     },
     "execution_count": 20,
     "metadata": {},
     "output_type": "execute_result"
    }
   ],
   "source": [
    "new_users.columns"
   ]
  },
  {
   "cell_type": "code",
   "execution_count": 21,
   "metadata": {},
   "outputs": [],
   "source": [
    "#new_users = new_users.select('location', F.split(new_users['location'], ',')[0].alias('city'))\n",
    "\n",
    "new_users_updated = new_users.withColumn('location', F.split(new_users.location, ','))\\\n",
    ".select('users_id', 'display_name', 'reputation', 'website_url', \n",
    "                                    'location', 'about_me', 'views', 'up_votes', \n",
    "                                    'down_votes', 'image_url', 'users_created_at', \n",
    "                                    'updated_at', F.element_at(F.col('location'),-2).alias('city')\n",
    "        , F.element_at(F.col('location'), -1).alias('country'))"
   ]
  },
  {
   "cell_type": "code",
   "execution_count": 22,
   "metadata": {},
   "outputs": [
    {
     "name": "stdout",
     "output_type": "stream",
     "text": [
      "+---------------+-------+\n",
      "|           city|country|\n",
      "+---------------+-------+\n",
      "|      Bangalore|  India|\n",
      "|      New Delhi|  India|\n",
      "|      Gharaunda|  India|\n",
      "|      New Delhi|  India|\n",
      "|      Jalandhar|  India|\n",
      "|          Surat|  India|\n",
      "|    West Bengal|  India|\n",
      "|           Pune|  India|\n",
      "|         Mumbai|  India|\n",
      "|      Bangalore|  India|\n",
      "|         Mumbai|  India|\n",
      "|      Bangalore|  India|\n",
      "|         Mumbai|  India|\n",
      "|      Hyderabad|  India|\n",
      "| Madhya Pradesh|  India|\n",
      "|           null|  India|\n",
      "|      Bangalore|  India|\n",
      "|    Naya Raipur|  India|\n",
      "|      Bangalore|  India|\n",
      "|     Tamil Nadu|  India|\n",
      "|      Bangalore|  India|\n",
      "|           Pune|  India|\n",
      "|           Pune|  India|\n",
      "|          Delhi|  India|\n",
      "|      Bangalore|  India|\n",
      "|         Mumbai|  India|\n",
      "|    West Bengal|  India|\n",
      "|      Bangalore|  India|\n",
      "|     Tamil Nadu|  India|\n",
      "|      Bangalore|  India|\n",
      "|          Surat|  India|\n",
      "|      Hyderabad|  India|\n",
      "|      Hyderabad|  India|\n",
      "|    West Bengal|  India|\n",
      "|  Uttar Pradesh|  India|\n",
      "|     Tamil Nadu|  India|\n",
      "|         Mumbai|  India|\n",
      "|     Tamil Nadu|  India|\n",
      "|      Alappuzha|  India|\n",
      "|           Pune|  India|\n",
      "|        Gurgaon|  India|\n",
      "|     Tamil Nadu|  India|\n",
      "|        Gurgaon|  India|\n",
      "|    Maharashtra|  India|\n",
      "|     Tamil Nadu|  India|\n",
      "|     Tamil Nadu|  India|\n",
      "|      Bengaluru|  India|\n",
      "|      Hyderabad|  India|\n",
      "|         Mumbai|  India|\n",
      "|      New Delhi|  India|\n",
      "+---------------+-------+\n",
      "only showing top 50 rows\n",
      "\n"
     ]
    }
   ],
   "source": [
    "new_users_updated.select('city','country').show(50)"
   ]
  },
  {
   "cell_type": "code",
   "execution_count": 23,
   "metadata": {},
   "outputs": [],
   "source": [
    "joins= new_users_updated.join(questions, new_users_updated.users_id == questions.questions_user_id, 'inner')"
   ]
  },
  {
   "cell_type": "code",
   "execution_count": 33,
   "metadata": {},
   "outputs": [
    {
     "data": {
      "text/plain": [
       "464"
      ]
     },
     "execution_count": 33,
     "metadata": {},
     "output_type": "execute_result"
    }
   ],
   "source": [
    "joins.count()"
   ]
  },
  {
   "cell_type": "code",
   "execution_count": 24,
   "metadata": {},
   "outputs": [],
   "source": [
    "joins.registerTempTable('new_questions')\n",
    "new_questions = spark.sql(\"select * from new_questions where views > 19 \")"
   ]
  },
  {
   "cell_type": "code",
   "execution_count": 35,
   "metadata": {},
   "outputs": [
    {
     "data": {
      "text/plain": [
       "['users_id',\n",
       " 'display_name',\n",
       " 'reputation',\n",
       " 'website_url',\n",
       " 'location',\n",
       " 'about_me',\n",
       " 'views',\n",
       " 'up_votes',\n",
       " 'down_votes',\n",
       " 'image_url',\n",
       " 'users_created_at',\n",
       " 'updated_at',\n",
       " 'city',\n",
       " 'country',\n",
       " 'questions_id',\n",
       " 'questions_user_id',\n",
       " 'title',\n",
       " 'questions_body',\n",
       " 'accepted_answer_id',\n",
       " 'questions_score',\n",
       " 'view_count',\n",
       " 'questions_comment_count',\n",
       " 'questions_created_at']"
      ]
     },
     "execution_count": 35,
     "metadata": {},
     "output_type": "execute_result"
    }
   ],
   "source": [
    "new_questions.columns"
   ]
  },
  {
   "cell_type": "code",
   "execution_count": 36,
   "metadata": {},
   "outputs": [],
   "source": [
    "results = new_questions.join(answers, new_questions.questions_created_at == answers.answers_created_at, 'inner')"
   ]
  },
  {
   "cell_type": "code",
   "execution_count": 37,
   "metadata": {},
   "outputs": [
    {
     "data": {
      "text/plain": [
       "54"
      ]
     },
     "execution_count": 37,
     "metadata": {},
     "output_type": "execute_result"
    }
   ],
   "source": [
    "results.count()"
   ]
  },
  {
   "cell_type": "code",
   "execution_count": 38,
   "metadata": {},
   "outputs": [
    {
     "name": "stdout",
     "output_type": "stream",
     "text": [
      "+-------------------+\n",
      "|         updated_at|\n",
      "+-------------------+\n",
      "|2019-10-11 08:39:32|\n",
      "|2019-10-11 08:39:32|\n",
      "|2019-10-11 08:39:32|\n",
      "|2019-10-11 08:39:32|\n",
      "|2019-10-11 08:39:32|\n",
      "|2019-10-11 08:39:32|\n",
      "|2019-10-11 08:39:32|\n",
      "|2019-10-11 08:39:32|\n",
      "|2019-10-11 08:39:32|\n",
      "|2019-10-11 08:39:32|\n",
      "|2019-10-11 08:39:32|\n",
      "|2019-10-11 08:39:32|\n",
      "|2019-10-11 08:39:32|\n",
      "|2019-10-11 08:39:32|\n",
      "|2019-10-11 08:39:32|\n",
      "|2019-10-11 08:39:32|\n",
      "|2019-10-11 08:39:32|\n",
      "|2019-10-11 08:39:32|\n",
      "|2019-10-11 08:39:32|\n",
      "|2019-10-11 08:39:32|\n",
      "+-------------------+\n",
      "only showing top 20 rows\n",
      "\n"
     ]
    }
   ],
   "source": [
    "results.select('updated_at').show()"
   ]
  },
  {
   "cell_type": "code",
   "execution_count": 39,
   "metadata": {},
   "outputs": [
    {
     "name": "stdout",
     "output_type": "stream",
     "text": [
      "+-------------------+\n",
      "|    min(updated_at)|\n",
      "+-------------------+\n",
      "|2019-10-11 08:39:32|\n",
      "+-------------------+\n",
      "\n"
     ]
    }
   ],
   "source": [
    "results.registerTempTable('results_temp')\n",
    "spark.sql(\"select min(updated_at) from results_temp\").show()"
   ]
  },
  {
   "cell_type": "code",
   "execution_count": 28,
   "metadata": {},
   "outputs": [
    {
     "data": {
      "text/plain": [
       "[('users_id', 'string'),\n",
       " ('display_name', 'string'),\n",
       " ('reputation', 'string'),\n",
       " ('website_url', 'string'),\n",
       " ('location', 'array<string>'),\n",
       " ('about_me', 'string'),\n",
       " ('views', 'string'),\n",
       " ('up_votes', 'string'),\n",
       " ('down_votes', 'string'),\n",
       " ('image_url', 'string'),\n",
       " ('users_created_at', 'string'),\n",
       " ('updated_at', 'string'),\n",
       " ('city', 'string'),\n",
       " ('country', 'string'),\n",
       " ('questions_id', 'string'),\n",
       " ('questions_user_id', 'string'),\n",
       " ('title', 'string'),\n",
       " ('questions_body', 'string'),\n",
       " ('accepted_answer_id', 'string'),\n",
       " ('questions_score', 'string'),\n",
       " ('view_count', 'string'),\n",
       " ('questions_comment_count', 'string'),\n",
       " ('questions_created_at', 'string'),\n",
       " ('answers_id', 'string'),\n",
       " ('answers_user_id', 'string'),\n",
       " ('question_id', 'string'),\n",
       " ('answers_body', 'string'),\n",
       " ('answers_score', 'string'),\n",
       " ('answers_comment_count', 'string'),\n",
       " ('answers_created_at', 'string')]"
      ]
     },
     "execution_count": 28,
     "metadata": {},
     "output_type": "execute_result"
    }
   ],
   "source": [
    "results.dtypes"
   ]
  },
  {
   "cell_type": "code",
   "execution_count": 30,
   "metadata": {},
   "outputs": [
    {
     "data": {
      "text/plain": [
       "pyspark.sql.dataframe.DataFrame"
      ]
     },
     "execution_count": 30,
     "metadata": {},
     "output_type": "execute_result"
    }
   ],
   "source": [
    "type(results)"
   ]
  },
  {
   "cell_type": "code",
   "execution_count": 42,
   "metadata": {},
   "outputs": [],
   "source": [
    "tester = results.toPandas()"
   ]
  },
  {
   "cell_type": "code",
   "execution_count": 44,
   "metadata": {},
   "outputs": [
    {
     "data": {
      "text/plain": [
       "pandas.core.frame.DataFrame"
      ]
     },
     "execution_count": 44,
     "metadata": {},
     "output_type": "execute_result"
    }
   ],
   "source": [
    "type(tester)"
   ]
  },
  {
   "cell_type": "code",
   "execution_count": 46,
   "metadata": {},
   "outputs": [],
   "source": [
    "tester.to_csv('results.csv')"
   ]
  },
  {
   "cell_type": "code",
   "execution_count": 45,
   "metadata": {},
   "outputs": [],
   "source": [
    "#results.write.format(\"jdbc\").options(\n",
    "#   url='jdbc:postgresql://localhost:5432/postgres',\n",
    "#   driver='org.postgresql.Driver',\n",
    "#   user='postgres',\n",
    "#   password='postgres',\n",
    "#   dbtable='stackoverflow_filtered.results'\n",
    "#).save(mode='append')"
   ]
  }
 ],
 "metadata": {
  "kernelspec": {
   "display_name": "Python 3",
   "language": "python",
   "name": "python3"
  },
  "language_info": {
   "codemirror_mode": {
    "name": "ipython",
    "version": 3
   },
   "file_extension": ".py",
   "mimetype": "text/x-python",
   "name": "python",
   "nbconvert_exporter": "python",
   "pygments_lexer": "ipython3",
   "version": "3.7.4"
  }
 },
 "nbformat": 4,
 "nbformat_minor": 4
}
